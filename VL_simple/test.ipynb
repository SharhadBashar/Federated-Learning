{
 "cells": [
  {
   "cell_type": "code",
   "execution_count": 1,
   "metadata": {},
   "outputs": [],
   "source": [
    "import os.path\n",
    "import pandas as pd\n",
    "pd.set_option('display.max_colwidth', None)\n",
    "import numpy as np\n",
    "np.set_printoptions(precision=3, suppress=True)\n",
    "import seaborn as sns\n",
    "sns.set(style='whitegrid')\n",
    "import matplotlib.pyplot as plt\n",
    "import tensorflow as tf\n",
    "from tensorflow import keras\n",
    "from keras import layers\n",
    "from tensorflow.keras.layers.experimental import preprocessing\n",
    "from keras import regularizers\n",
    "from sklearn.model_selection import train_test_split\n",
    "import zipfile\n",
    "#https://datascience.stackexchange.com/questions/107340/need-help-understanding-how-this-neural-network-is-working\n",
    "#https://github.com/zhxchd/vFedCCE"
   ]
  },
  {
   "cell_type": "code",
   "execution_count": 2,
   "metadata": {},
   "outputs": [],
   "source": [
    "class Data():\n",
    "    def __init__(self, data_path = 'Data/SouthGermanCredit/', german = 'SouthGermanCredit.asc', english = 'SouthGermanCredit_english.csv'):\n",
    "        self.data_path = data_path\n",
    "        self.german = german\n",
    "        self.english = english\n",
    "        if not os.path.isfile(self.data_path + english):\n",
    "            self.translate()\n",
    "            \n",
    "    def translate(self):\n",
    "        df = pd.read_csv(self.path + german, sep = ' ')\n",
    "        df.rename(columns = {\n",
    "                            'laufkont': 'status', \n",
    "                            'laufzeit': 'credit_history',\n",
    "                            'moral': 'credit_history',\n",
    "                            'verw': 'purpose',\n",
    "                            'hoehe': 'amount',\n",
    "                            'sparkont': 'savings',\n",
    "                            'beszeit': 'employment_duration',\n",
    "                            'rate': 'installment_rate',\n",
    "                            'famges': 'personal_status_sex',\n",
    "                            'buerge': 'other_debtors',\n",
    "                            'wohnzeit': 'present_residence',\n",
    "                            'verm': 'property',\n",
    "                            'alter': 'age',\n",
    "                            'weitkred': 'other_installment_plans',\n",
    "                            'wohn': 'housing',\n",
    "                            'bishkred': 'number_credits',\n",
    "                            'beruf': 'job',\n",
    "                            'pers': 'people_liable',\n",
    "                            'telef': 'telephone',\n",
    "                            'gastarb': 'foreign_worker',\n",
    "                            'kredit': 'credit_risk'\n",
    "                            }, inplace = True)\n",
    "        df.to_csv(self.path + self.english)\n",
    "    \n",
    "    def view_data(self):\n",
    "        df = pd.read_csv(self.data_path + self.english)\n",
    "        print(df.columns)\n",
    "        print(df.describe())\n",
    "        print(df.head())\n",
    "        \n",
    "    def get_data(self):\n",
    "        return pd.read_csv(self.data_path + self.english).astype(np.float32)\n",
    "        "
   ]
  },
  {
   "cell_type": "code",
   "execution_count": 3,
   "metadata": {},
   "outputs": [],
   "source": [
    "df = Data().get_data()\n",
    "features = df.copy()\n",
    "labels = features.pop('credit_risk')\n",
    "trainX, testX, trainY, testY = train_test_split(features, labels, test_size=0.2, random_state=69)"
   ]
  },
  {
   "cell_type": "code",
   "execution_count": 12,
   "metadata": {
    "scrolled": false
   },
   "outputs": [],
   "source": [
    "normalizer = preprocessing.Normalization()\n",
    "normalizer.adapt(np.array(trainX))\n",
    "\n",
    "\n",
    "batch_size=32\n",
    "learning_rate=1e-3\n",
    "\n",
    "model = tf.keras.Sequential([\n",
    "      normalizer,\n",
    "      layers.Dense(128, activation='elu', kernel_regularizer=regularizers.l2(0.01)),\n",
    "      layers.Dropout(0.5),\n",
    "      layers.Dense(128, activation='elu', kernel_regularizer=regularizers.l2(0.01)),\n",
    "      layers.Dropout(0.5),\n",
    "      layers.Dense(2),\n",
    "      layers.Softmax()])\n",
    "\n",
    "model.compile(optimizer=keras.optimizers.Adam(learning_rate=learning_rate),\n",
    "              loss=tf.keras.losses.SparseCategoricalCrossentropy(from_logits=False),\n",
    "              metrics=['accuracy'])\n",
    "\n",
    "fitted_model = model.fit(trainX, trainY, epochs=50, verbose=0, batch_size=batch_size)"
   ]
  },
  {
   "cell_type": "code",
   "execution_count": 13,
   "metadata": {},
   "outputs": [
    {
     "name": "stdout",
     "output_type": "stream",
     "text": [
      "Model: \"sequential_1\"\n",
      "_________________________________________________________________\n",
      "Layer (type)                 Output Shape              Param #   \n",
      "=================================================================\n",
      "normalization_1 (Normalizati (None, 20)                41        \n",
      "_________________________________________________________________\n",
      "dense_3 (Dense)              (None, 128)               2688      \n",
      "_________________________________________________________________\n",
      "dropout_2 (Dropout)          (None, 128)               0         \n",
      "_________________________________________________________________\n",
      "dense_4 (Dense)              (None, 128)               16512     \n",
      "_________________________________________________________________\n",
      "dropout_3 (Dropout)          (None, 128)               0         \n",
      "_________________________________________________________________\n",
      "dense_5 (Dense)              (None, 2)                 258       \n",
      "_________________________________________________________________\n",
      "softmax_1 (Softmax)          (None, 2)                 0         \n",
      "=================================================================\n",
      "Total params: 19,499\n",
      "Trainable params: 19,458\n",
      "Non-trainable params: 41\n",
      "_________________________________________________________________\n"
     ]
    }
   ],
   "source": [
    "model.summary()"
   ]
  },
  {
   "cell_type": "code",
   "execution_count": 15,
   "metadata": {},
   "outputs": [],
   "source": [
    "test_results = {}\n",
    "\n",
    "def plot_loss(history):\n",
    "    plt.plot(history.history['loss'], label='loss')\n",
    "    plt.plot(history.history['accuracy'], label='accuracy')\n",
    "    plt.xlabel('Epoch')\n",
    "    # plt.ylabel('Error')\n",
    "    plt.legend()\n",
    "    plt.grid(True)\n",
    "\n",
    "def plot_predictions(prediction):\n",
    "    a = plt.axes(aspect='equal')\n",
    "    plt.scatter(testY, prediction)\n",
    "    plt.xlabel('True Values')\n",
    "    plt.ylabel('Predictions')\n",
    "    # lims = [500, 1000]\n",
    "    # plt.xlim([500, 1000])\n",
    "    # plt.ylim([500, 1000])\n",
    "    _ = plt.plot\n",
    "\n",
    "def plot_accuracy(prediction):\n",
    "    tp = 0\n",
    "    tn = 0\n",
    "    fp = 0\n",
    "    fn = 0\n",
    "    testY_arr = testY.to_numpy()\n",
    "\n",
    "    for x in range(200):\n",
    "    # print(str(testY_arr[x]) + \"; \" + str(prediction[x]))\n",
    "    # print(\"predict is : \" + str(np.argmax(prediction[x])))\n",
    "        if testY_arr[x] == 1:\n",
    "            if np.argmax(prediction[x]) == 1:\n",
    "                tp = tp + 1\n",
    "            else:\n",
    "                fn = fn + 1\n",
    "        else:\n",
    "            if np.argmax(prediction[x]) == 0:\n",
    "                tn = tn + 1\n",
    "            else:\n",
    "                fp = fp + 1\n",
    "\n",
    "    accuracy = (tp + tn)/(tp + fp + fn + tn)\n",
    "    precision = tp / (tp + fp)\n",
    "    recall = tp / (tp + fn)\n",
    "    specificity = tn / (tn + fp)\n",
    "    print(\"Accuracy: \" + str(accuracy))\n",
    "    print(\"Precision: \" + str(precision))\n",
    "    print(\"Recall: \" + str(recall))\n",
    "    # print(\"Specificity: \" + str(specificity))\n",
    "    print(\"F-Measure: \" + str(2*(recall * precision) / (recall + precision)))"
   ]
  },
  {
   "cell_type": "code",
   "execution_count": 16,
   "metadata": {},
   "outputs": [
    {
     "data": {
      "image/png": "[encoded data removed]",
      "text/plain": [
       "<Figure size 432x288 with 1 Axes>"
      ]
     },
     "metadata": {},
     "output_type": "display_data"
    }
   ],
   "source": [
    "plot_loss(fitted_model)"
   ]
  },
  {
   "cell_type": "markdown",
   "metadata": {},
   "source": [
    "## Results"
   ]
  },
  {
   "cell_type": "code",
   "execution_count": 17,
   "metadata": {},
   "outputs": [
    {
     "name": "stdout",
     "output_type": "stream",
     "text": [
      "7/7 - 0s - loss: 0.5467 - accuracy: 0.7450\n",
      "\n",
      "Test accuracy: 0.7450000047683716\n"
     ]
    }
   ],
   "source": [
    "test_loss, test_acc = model.evaluate(testX, testY, verbose=2)\n",
    "print('\\nTest accuracy:', test_acc)"
   ]
  },
  {
   "cell_type": "code",
   "execution_count": 18,
   "metadata": {},
   "outputs": [
    {
     "name": "stdout",
     "output_type": "stream",
     "text": [
      "Accuracy: 0.745\n",
      "Precision: 0.775\n",
      "Recall: 0.8920863309352518\n",
      "F-Measure: 0.8294314381270902\n",
      "AUC: 0.7665998348861894\n"
     ]
    }
   ],
   "source": [
    "probability_model = tf.keras.Sequential([model, tf.keras.layers.Softmax()])\n",
    "dnn_predictions = model.predict(testX)\n",
    "plot_accuracy(dnn_predictions)\n",
    "from sklearn.metrics import roc_auc_score\n",
    "print(\"AUC: {}\".format(roc_auc_score(testY, dnn_predictions[:,1])))"
   ]
  },
  {
   "cell_type": "code",
   "execution_count": null,
   "metadata": {},
   "outputs": [],
   "source": []
  }
 ],
 "metadata": {
  "kernelspec": {
   "display_name": "Python 3",
   "language": "python",
   "name": "python3"
  },
  "language_info": {
   "codemirror_mode": {
    "name": "ipython",
    "version": 3
   },
   "file_extension": ".py",
   "mimetype": "text/x-python",
   "name": "python",
   "nbconvert_exporter": "python",
   "pygments_lexer": "ipython3",
   "version": "3.8.8"
  }
 },
 "nbformat": 4,
 "nbformat_minor": 4
}
