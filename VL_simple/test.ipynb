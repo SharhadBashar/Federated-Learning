{
 "cells": [
  {
   "cell_type": "code",
   "execution_count": 21,
   "metadata": {},
   "outputs": [],
   "source": [
    "import os.path\n",
    "import pandas as pd\n",
    "pd.set_option('display.max_colwidth', None)\n",
    "import numpy as np\n",
    "np.set_printoptions(precision=3, suppress=True)\n",
    "import seaborn as sns\n",
    "sns.set(style='whitegrid')\n",
    "import matplotlib.pyplot as plt\n",
    "import tensorflow as tf\n",
    "from tensorflow import keras\n",
    "from keras import layers\n",
    "from tensorflow.keras.layers.experimental import preprocessing\n",
    "from keras import regularizers\n",
    "from sklearn.model_selection import train_test_split\n",
    "import zipfile\n",
    "#https://datascience.stackexchange.com/questions/107340/need-help-understanding-how-this-neural-network-is-working"
   ]
  },
  {
   "cell_type": "code",
   "execution_count": 71,
   "metadata": {},
   "outputs": [],
   "source": [
    "class Data():\n",
    "    def __init__(self, data_path = 'Data/SouthGermanCredit/', german = 'SouthGermanCredit.asc', english = 'SouthGermanCredit_english.csv'):\n",
    "        self.data_path = data_path\n",
    "        self.german = german\n",
    "        self.english = english\n",
    "        if not os.path.isfile(self.data_path + english):\n",
    "            self.translate()\n",
    "            \n",
    "    def translate(self):\n",
    "        df = pd.read_csv(self.path + german, sep = ' ')\n",
    "        df.rename(columns = {\n",
    "                            'laufkont': 'status', \n",
    "                            'laufzeit': 'credit_history',\n",
    "                            'moral': 'credit_history',\n",
    "                            'verw': 'purpose',\n",
    "                            'hoehe': 'amount',\n",
    "                            'sparkont': 'savings',\n",
    "                            'beszeit': 'employment_duration',\n",
    "                            'rate': 'installment_rate',\n",
    "                            'famges': 'personal_status_sex',\n",
    "                            'buerge': 'other_debtors',\n",
    "                            'wohnzeit': 'present_residence',\n",
    "                            'verm': 'property',\n",
    "                            'alter': 'age',\n",
    "                            'weitkred': 'other_installment_plans',\n",
    "                            'wohn': 'housing',\n",
    "                            'bishkred': 'number_credits',\n",
    "                            'beruf': 'job',\n",
    "                            'pers': 'people_liable',\n",
    "                            'telef': 'telephone',\n",
    "                            'gastarb': 'foreign_worker',\n",
    "                            'kredit': 'credit_risk'\n",
    "                            }, inplace = True)\n",
    "        df.to_csv(self.path + self.english)\n",
    "    \n",
    "    def view_data(self):\n",
    "        df = pd.read_csv(self.data_path + self.english)\n",
    "        print(df.columns)\n",
    "        print(df.describe())\n",
    "        print(df.head())\n",
    "        \n",
    "    def get_data(self):\n",
    "        return pd.read_csv(self.data_path + self.english).astype(np.float32)\n",
    "        "
   ]
  },
  {
   "cell_type": "code",
   "execution_count": 72,
   "metadata": {},
   "outputs": [
    {
     "name": "stdout",
     "output_type": "stream",
     "text": [
      "<class 'numpy.float32'> <class 'numpy.float32'>\n"
     ]
    }
   ],
   "source": [
    "df = Data().get_data()\n",
    "features = df.copy()\n",
    "labels = features.pop('credit_risk')\n",
    "trainX, testX, trainY, testY = train_test_split(features, labels, test_size=0.2, random_state=69)\n",
    "print(type(trainX.loc[0]['status']), type(trainY.loc[0]))"
   ]
  },
  {
   "cell_type": "code",
   "execution_count": 73,
   "metadata": {
    "scrolled": false
   },
   "outputs": [
    {
     "data": {
      "text/plain": [
       "<tensorflow.python.keras.callbacks.History at 0x7fc2b0213490>"
      ]
     },
     "execution_count": 73,
     "metadata": {},
     "output_type": "execute_result"
    }
   ],
   "source": [
    "normalizer = preprocessing.Normalization()\n",
    "normalizer.adapt(np.array(trainX))\n",
    "\n",
    "\n",
    "batch_size=32\n",
    "learning_rate=1e-3\n",
    "\n",
    "model = tf.keras.Sequential([\n",
    "      normalizer,\n",
    "      layers.Dense(128, activation='elu', kernel_regularizer=regularizers.l2(0.01)),\n",
    "      layers.Dropout(0.5),\n",
    "      layers.Dense(128, activation='elu', kernel_regularizer=regularizers.l2(0.01)),\n",
    "      layers.Dropout(0.5),\n",
    "      layers.Dense(2),\n",
    "      layers.Softmax()])\n",
    "\n",
    "model.compile(optimizer=keras.optimizers.Adam(learning_rate=learning_rate),\n",
    "              loss=tf.keras.losses.SparseCategoricalCrossentropy(from_logits=False),\n",
    "              metrics=['accuracy'])\n",
    "\n",
    "model.fit(trainX, trainY, epochs=50, verbose=0, batch_size=batch_size)"
   ]
  },
  {
   "cell_type": "code",
   "execution_count": 74,
   "metadata": {},
   "outputs": [
    {
     "name": "stdout",
     "output_type": "stream",
     "text": [
      "Model: \"sequential_16\"\n",
      "_________________________________________________________________\n",
      "Layer (type)                 Output Shape              Param #   \n",
      "=================================================================\n",
      "normalization_16 (Normalizat multiple                  41        \n",
      "_________________________________________________________________\n",
      "dense_48 (Dense)             multiple                  2688      \n",
      "_________________________________________________________________\n",
      "dropout_32 (Dropout)         multiple                  0         \n",
      "_________________________________________________________________\n",
      "dense_49 (Dense)             multiple                  16512     \n",
      "_________________________________________________________________\n",
      "dropout_33 (Dropout)         multiple                  0         \n",
      "_________________________________________________________________\n",
      "dense_50 (Dense)             multiple                  258       \n",
      "_________________________________________________________________\n",
      "softmax_16 (Softmax)         multiple                  0         \n",
      "=================================================================\n",
      "Total params: 19,499\n",
      "Trainable params: 19,458\n",
      "Non-trainable params: 41\n",
      "_________________________________________________________________\n"
     ]
    }
   ],
   "source": [
    "model.summary()"
   ]
  },
  {
   "cell_type": "code",
   "execution_count": null,
   "metadata": {},
   "outputs": [],
   "source": []
  },
  {
   "cell_type": "code",
   "execution_count": null,
   "metadata": {},
   "outputs": [],
   "source": []
  }
 ],
 "metadata": {
  "kernelspec": {
   "display_name": "Python 3",
   "language": "python",
   "name": "python3"
  },
  "language_info": {
   "codemirror_mode": {
    "name": "ipython",
    "version": 3
   },
   "file_extension": ".py",
   "mimetype": "text/x-python",
   "name": "python",
   "nbconvert_exporter": "python",
   "pygments_lexer": "ipython3",
   "version": "3.8.3"
  }
 },
 "nbformat": 4,
 "nbformat_minor": 4
}
